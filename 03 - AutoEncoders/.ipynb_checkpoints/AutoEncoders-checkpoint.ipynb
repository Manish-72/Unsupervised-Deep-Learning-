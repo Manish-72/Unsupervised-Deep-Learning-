{
 "cells": [
  {
   "cell_type": "markdown",
   "metadata": {
    "colab_type": "text",
    "id": "K4f4JG1gdKqj"
   },
   "source": [
    "# AutoEncoders"
   ]
  },
  {
   "cell_type": "markdown",
   "metadata": {
    "colab_type": "text",
    "id": "EOBJ8UCXdY0g"
   },
   "source": [
    "## Importing the libraries"
   ]
  },
  {
   "cell_type": "code",
   "execution_count": 1,
   "metadata": {
    "colab": {},
    "colab_type": "code",
    "id": "_LvGeU1CeCtg"
   },
   "outputs": [],
   "source": [
    "import numpy as np\n",
    "import pandas as pd\n",
    "import torch\n",
    "import torch.nn as nn\n",
    "import torch.nn.parallel\n",
    "import torch.optim as optim\n",
    "import torch.utils.data\n",
    "from torch.autograd import Variable"
   ]
  },
  {
   "cell_type": "code",
   "execution_count": 2,
   "metadata": {
    "colab": {},
    "colab_type": "code",
    "id": "UJw2p3-Cewo4"
   },
   "outputs": [
    {
     "name": "stdout",
     "output_type": "stream",
     "text": [
      "Collecting ipywidgetsNote: you may need to restart the kernel to use updated packages.\n",
      "\n",
      "  Downloading ipywidgets-8.1.1-py3-none-any.whl (139 kB)\n",
      "     ------------------------------------ 139.4/139.4 kB 751.0 kB/s eta 0:00:00\n",
      "Requirement already satisfied: ipython>=6.1.0 in c:\\users\\manish saini\\anaconda3\\lib\\site-packages (from ipywidgets) (8.15.0)\n",
      "Collecting jupyterlab-widgets~=3.0.9\n",
      "  Downloading jupyterlab_widgets-3.0.9-py3-none-any.whl (214 kB)\n",
      "     -------------------------------------- 214.9/214.9 kB 1.9 MB/s eta 0:00:00\n",
      "Requirement already satisfied: traitlets>=4.3.1 in c:\\users\\manish saini\\anaconda3\\lib\\site-packages (from ipywidgets) (5.7.1)\n",
      "Collecting widgetsnbextension~=4.0.9\n",
      "  Downloading widgetsnbextension-4.0.9-py3-none-any.whl (2.3 MB)\n",
      "     ---------------------------------------- 2.3/2.3 MB 1.6 MB/s eta 0:00:00\n",
      "Collecting comm>=0.1.3\n",
      "  Downloading comm-0.2.1-py3-none-any.whl (7.2 kB)\n",
      "Requirement already satisfied: stack-data in c:\\users\\manish saini\\anaconda3\\lib\\site-packages (from ipython>=6.1.0->ipywidgets) (0.2.0)\n",
      "Requirement already satisfied: matplotlib-inline in c:\\users\\manish saini\\anaconda3\\lib\\site-packages (from ipython>=6.1.0->ipywidgets) (0.1.6)\n",
      "Requirement already satisfied: prompt-toolkit!=3.0.37,<3.1.0,>=3.0.30 in c:\\users\\manish saini\\anaconda3\\lib\\site-packages (from ipython>=6.1.0->ipywidgets) (3.0.36)\n",
      "Requirement already satisfied: pygments>=2.4.0 in c:\\users\\manish saini\\anaconda3\\lib\\site-packages (from ipython>=6.1.0->ipywidgets) (2.15.1)\n",
      "Requirement already satisfied: backcall in c:\\users\\manish saini\\anaconda3\\lib\\site-packages (from ipython>=6.1.0->ipywidgets) (0.2.0)\n",
      "Requirement already satisfied: jedi>=0.16 in c:\\users\\manish saini\\anaconda3\\lib\\site-packages (from ipython>=6.1.0->ipywidgets) (0.18.1)\n",
      "Requirement already satisfied: exceptiongroup in c:\\users\\manish saini\\anaconda3\\lib\\site-packages (from ipython>=6.1.0->ipywidgets) (1.0.4)\n",
      "Requirement already satisfied: colorama in c:\\users\\manish saini\\anaconda3\\lib\\site-packages (from ipython>=6.1.0->ipywidgets) (0.4.6)\n",
      "Requirement already satisfied: decorator in c:\\users\\manish saini\\anaconda3\\lib\\site-packages (from ipython>=6.1.0->ipywidgets) (5.1.1)\n",
      "Requirement already satisfied: pickleshare in c:\\users\\manish saini\\anaconda3\\lib\\site-packages (from ipython>=6.1.0->ipywidgets) (0.7.5)\n",
      "Requirement already satisfied: parso<0.9.0,>=0.8.0 in c:\\users\\manish saini\\anaconda3\\lib\\site-packages (from jedi>=0.16->ipython>=6.1.0->ipywidgets) (0.8.3)\n",
      "Requirement already satisfied: wcwidth in c:\\users\\manish saini\\anaconda3\\lib\\site-packages (from prompt-toolkit!=3.0.37,<3.1.0,>=3.0.30->ipython>=6.1.0->ipywidgets) (0.2.5)\n",
      "Requirement already satisfied: pure-eval in c:\\users\\manish saini\\anaconda3\\lib\\site-packages (from stack-data->ipython>=6.1.0->ipywidgets) (0.2.2)\n",
      "Requirement already satisfied: executing in c:\\users\\manish saini\\anaconda3\\lib\\site-packages (from stack-data->ipython>=6.1.0->ipywidgets) (0.8.3)\n",
      "Requirement already satisfied: asttokens in c:\\users\\manish saini\\anaconda3\\lib\\site-packages (from stack-data->ipython>=6.1.0->ipywidgets) (2.0.5)\n",
      "Requirement already satisfied: six in c:\\users\\manish saini\\anaconda3\\lib\\site-packages (from asttokens->stack-data->ipython>=6.1.0->ipywidgets) (1.16.0)\n",
      "Installing collected packages: widgetsnbextension, jupyterlab-widgets, comm, ipywidgets\n",
      "  Attempting uninstall: comm\n",
      "    Found existing installation: comm 0.1.2\n",
      "    Uninstalling comm-0.1.2:\n",
      "      Successfully uninstalled comm-0.1.2\n",
      "Successfully installed comm-0.2.1 ipywidgets-8.1.1 jupyterlab-widgets-3.0.9 widgetsnbextension-4.0.9\n"
     ]
    }
   ],
   "source": [
    "pip install ipywidgets"
   ]
  },
  {
   "cell_type": "markdown",
   "metadata": {
    "colab_type": "text",
    "id": "yTIbE2tkdkwP"
   },
   "source": [
    "## Preparing the training set and the test set\n"
   ]
  },
  {
   "cell_type": "code",
   "execution_count": 3,
   "metadata": {
    "colab": {},
    "colab_type": "code",
    "id": "2usLKJBEgPE2"
   },
   "outputs": [],
   "source": [
    "training_set = pd.read_csv('ml-100k/u1.base', delimiter = '\\t')\n",
    "training_set = np.array(training_set, dtype = 'int')\n",
    "test_set = pd.read_csv('ml-100k/u1.test', delimiter = '\\t')\n",
    "test_set = np.array(test_set, dtype = 'int')"
   ]
  },
  {
   "cell_type": "markdown",
   "metadata": {
    "colab_type": "text",
    "id": "zCf8HjSydk4s"
   },
   "source": [
    "## Getting the number of users and movies\n"
   ]
  },
  {
   "cell_type": "code",
   "execution_count": 4,
   "metadata": {
    "colab": {},
    "colab_type": "code",
    "id": "gPaGZqdniC5m"
   },
   "outputs": [],
   "source": [
    "nb_users = int(max(max(training_set[:, 0], ), max(test_set[:, 0])))\n",
    "nb_movies = int(max(max(training_set[:, 1], ), max(test_set[:, 1])))"
   ]
  },
  {
   "cell_type": "markdown",
   "metadata": {
    "colab_type": "text",
    "id": "J-w4-hVidlAm"
   },
   "source": [
    "## Converting the data into an array with users in lines and movies in columns\n"
   ]
  },
  {
   "cell_type": "code",
   "execution_count": 5,
   "metadata": {
    "colab": {},
    "colab_type": "code",
    "id": "-wASs2YFiDaa"
   },
   "outputs": [],
   "source": [
    "def convert(data):\n",
    "  new_data = []\n",
    "  for id_users in range(1, nb_users + 1):\n",
    "    id_movies = data[:, 1] [data[:, 0] == id_users]\n",
    "    id_ratings = data[:, 2] [data[:, 0] == id_users]\n",
    "    ratings = np.zeros(nb_movies)\n",
    "    ratings[id_movies - 1] = id_ratings\n",
    "    new_data.append(list(ratings))\n",
    "  return new_data\n",
    "training_set = convert(training_set)\n",
    "test_set = convert(test_set)"
   ]
  },
  {
   "cell_type": "markdown",
   "metadata": {
    "colab_type": "text",
    "id": "AMmhuUpldlHo"
   },
   "source": [
    "## Converting the data into Torch tensors\n"
   ]
  },
  {
   "cell_type": "code",
   "execution_count": 6,
   "metadata": {
    "colab": {},
    "colab_type": "code",
    "id": "TwD-KD8yiEEw"
   },
   "outputs": [],
   "source": [
    "training_set = torch.FloatTensor(training_set)\n",
    "test_set = torch.FloatTensor(test_set)"
   ]
  },
  {
   "cell_type": "markdown",
   "metadata": {
    "colab_type": "text",
    "id": "6kkL8NkkdlZj"
   },
   "source": [
    "## Creating the architecture of the Neural Network\n"
   ]
  },
  {
   "cell_type": "code",
   "execution_count": 7,
   "metadata": {
    "colab": {},
    "colab_type": "code",
    "id": "oU2nyh76iE6M"
   },
   "outputs": [],
   "source": [
    "class SAE(nn.Module):\n",
    "    def __init__(self, ):\n",
    "        super(SAE, self).__init__()\n",
    "        self.fc1 = nn.Linear(nb_movies, 20)\n",
    "        self.fc2 = nn.Linear(20, 10)\n",
    "        self.fc3 = nn.Linear(10, 20)\n",
    "        self.fc4 = nn.Linear(20, nb_movies)\n",
    "        self.activation = nn.Sigmoid()\n",
    "    def forward(self, x):\n",
    "        x = self.activation(self.fc1(x))\n",
    "        x = self.activation(self.fc2(x))\n",
    "        x = self.activation(self.fc3(x))\n",
    "        x = self.fc4(x)\n",
    "        return x\n",
    "sae = SAE()\n",
    "criterion = nn.MSELoss()\n",
    "optimizer = optim.RMSprop(sae.parameters(), lr = 0.01, weight_decay = 0.5)"
   ]
  },
  {
   "cell_type": "markdown",
   "metadata": {
    "colab_type": "text",
    "id": "7gy59alAdloL"
   },
   "source": [
    "## Training the SAE\n"
   ]
  },
  {
   "cell_type": "code",
   "execution_count": 8,
   "metadata": {
    "colab": {
     "base_uri": "https://localhost:8080/",
     "height": 1000
    },
    "colab_type": "code",
    "id": "FEz9hRaciFTs",
    "outputId": "0f6ed0d0-09c4-46c0-bfe6-70031d76b491"
   },
   "outputs": [
    {
     "name": "stdout",
     "output_type": "stream",
     "text": [
      "epoch: 1loss: tensor(1.7706)\n",
      "epoch: 2loss: tensor(1.0966)\n",
      "epoch: 3loss: tensor(1.0534)\n",
      "epoch: 4loss: tensor(1.0383)\n",
      "epoch: 5loss: tensor(1.0309)\n",
      "epoch: 6loss: tensor(1.0265)\n",
      "epoch: 7loss: tensor(1.0238)\n",
      "epoch: 8loss: tensor(1.0220)\n",
      "epoch: 9loss: tensor(1.0207)\n",
      "epoch: 10loss: tensor(1.0195)\n",
      "epoch: 11loss: tensor(1.0189)\n",
      "epoch: 12loss: tensor(1.0182)\n",
      "epoch: 13loss: tensor(1.0178)\n",
      "epoch: 14loss: tensor(1.0176)\n",
      "epoch: 15loss: tensor(1.0173)\n",
      "epoch: 16loss: tensor(1.0168)\n",
      "epoch: 17loss: tensor(1.0168)\n",
      "epoch: 18loss: tensor(1.0165)\n",
      "epoch: 19loss: tensor(1.0162)\n",
      "epoch: 20loss: tensor(1.0164)\n",
      "epoch: 21loss: tensor(1.0160)\n",
      "epoch: 22loss: tensor(1.0156)\n",
      "epoch: 23loss: tensor(1.0158)\n",
      "epoch: 24loss: tensor(1.0158)\n",
      "epoch: 25loss: tensor(1.0155)\n",
      "epoch: 26loss: tensor(1.0158)\n",
      "epoch: 27loss: tensor(1.0154)\n",
      "epoch: 28loss: tensor(1.0150)\n",
      "epoch: 29loss: tensor(1.0127)\n",
      "epoch: 30loss: tensor(1.0118)\n",
      "epoch: 31loss: tensor(1.0096)\n",
      "epoch: 32loss: tensor(1.0093)\n",
      "epoch: 33loss: tensor(1.0054)\n",
      "epoch: 34loss: tensor(1.0052)\n",
      "epoch: 35loss: tensor(1.0022)\n",
      "epoch: 36loss: tensor(1.0017)\n",
      "epoch: 37loss: tensor(0.9976)\n",
      "epoch: 38loss: tensor(0.9962)\n",
      "epoch: 39loss: tensor(0.9927)\n",
      "epoch: 40loss: tensor(0.9936)\n",
      "epoch: 41loss: tensor(0.9922)\n",
      "epoch: 42loss: tensor(0.9917)\n",
      "epoch: 43loss: tensor(0.9877)\n",
      "epoch: 44loss: tensor(0.9874)\n",
      "epoch: 45loss: tensor(0.9827)\n",
      "epoch: 46loss: tensor(0.9826)\n",
      "epoch: 47loss: tensor(0.9783)\n",
      "epoch: 48loss: tensor(0.9775)\n",
      "epoch: 49loss: tensor(0.9741)\n",
      "epoch: 50loss: tensor(0.9737)\n",
      "epoch: 51loss: tensor(0.9694)\n",
      "epoch: 52loss: tensor(0.9710)\n",
      "epoch: 53loss: tensor(0.9716)\n",
      "epoch: 54loss: tensor(0.9693)\n",
      "epoch: 55loss: tensor(0.9665)\n",
      "epoch: 56loss: tensor(0.9641)\n",
      "epoch: 57loss: tensor(0.9638)\n",
      "epoch: 58loss: tensor(0.9610)\n",
      "epoch: 59loss: tensor(0.9595)\n",
      "epoch: 60loss: tensor(0.9606)\n",
      "epoch: 61loss: tensor(0.9596)\n",
      "epoch: 62loss: tensor(0.9572)\n",
      "epoch: 63loss: tensor(0.9559)\n",
      "epoch: 64loss: tensor(0.9577)\n",
      "epoch: 65loss: tensor(0.9532)\n",
      "epoch: 66loss: tensor(0.9549)\n",
      "epoch: 67loss: tensor(0.9526)\n",
      "epoch: 68loss: tensor(0.9541)\n",
      "epoch: 69loss: tensor(0.9529)\n",
      "epoch: 70loss: tensor(0.9514)\n",
      "epoch: 71loss: tensor(0.9501)\n",
      "epoch: 72loss: tensor(0.9479)\n",
      "epoch: 73loss: tensor(0.9470)\n",
      "epoch: 74loss: tensor(0.9471)\n",
      "epoch: 75loss: tensor(0.9450)\n",
      "epoch: 76loss: tensor(0.9446)\n",
      "epoch: 77loss: tensor(0.9434)\n",
      "epoch: 78loss: tensor(0.9428)\n",
      "epoch: 79loss: tensor(0.9414)\n",
      "epoch: 80loss: tensor(0.9417)\n",
      "epoch: 81loss: tensor(0.9409)\n",
      "epoch: 82loss: tensor(0.9405)\n",
      "epoch: 83loss: tensor(0.9396)\n",
      "epoch: 84loss: tensor(0.9404)\n",
      "epoch: 85loss: tensor(0.9385)\n",
      "epoch: 86loss: tensor(0.9414)\n",
      "epoch: 87loss: tensor(0.9405)\n",
      "epoch: 88loss: tensor(0.9401)\n",
      "epoch: 89loss: tensor(0.9380)\n",
      "epoch: 90loss: tensor(0.9365)\n",
      "epoch: 91loss: tensor(0.9361)\n",
      "epoch: 92loss: tensor(0.9362)\n",
      "epoch: 93loss: tensor(0.9352)\n",
      "epoch: 94loss: tensor(0.9351)\n",
      "epoch: 95loss: tensor(0.9343)\n",
      "epoch: 96loss: tensor(0.9349)\n",
      "epoch: 97loss: tensor(0.9333)\n",
      "epoch: 98loss: tensor(0.9339)\n",
      "epoch: 99loss: tensor(0.9326)\n",
      "epoch: 100loss: tensor(0.9343)\n",
      "epoch: 101loss: tensor(0.9317)\n",
      "epoch: 102loss: tensor(0.9322)\n",
      "epoch: 103loss: tensor(0.9311)\n",
      "epoch: 104loss: tensor(0.9319)\n",
      "epoch: 105loss: tensor(0.9309)\n",
      "epoch: 106loss: tensor(0.9308)\n",
      "epoch: 107loss: tensor(0.9305)\n",
      "epoch: 108loss: tensor(0.9303)\n",
      "epoch: 109loss: tensor(0.9298)\n",
      "epoch: 110loss: tensor(0.9296)\n",
      "epoch: 111loss: tensor(0.9288)\n",
      "epoch: 112loss: tensor(0.9292)\n",
      "epoch: 113loss: tensor(0.9282)\n",
      "epoch: 114loss: tensor(0.9283)\n",
      "epoch: 115loss: tensor(0.9276)\n",
      "epoch: 116loss: tensor(0.9279)\n",
      "epoch: 117loss: tensor(0.9268)\n",
      "epoch: 118loss: tensor(0.9268)\n",
      "epoch: 119loss: tensor(0.9263)\n",
      "epoch: 120loss: tensor(0.9265)\n",
      "epoch: 121loss: tensor(0.9257)\n",
      "epoch: 122loss: tensor(0.9259)\n",
      "epoch: 123loss: tensor(0.9252)\n",
      "epoch: 124loss: tensor(0.9252)\n",
      "epoch: 125loss: tensor(0.9246)\n",
      "epoch: 126loss: tensor(0.9246)\n",
      "epoch: 127loss: tensor(0.9242)\n",
      "epoch: 128loss: tensor(0.9243)\n",
      "epoch: 129loss: tensor(0.9234)\n",
      "epoch: 130loss: tensor(0.9237)\n",
      "epoch: 131loss: tensor(0.9230)\n",
      "epoch: 132loss: tensor(0.9232)\n",
      "epoch: 133loss: tensor(0.9225)\n",
      "epoch: 134loss: tensor(0.9226)\n",
      "epoch: 135loss: tensor(0.9219)\n",
      "epoch: 136loss: tensor(0.9218)\n",
      "epoch: 137loss: tensor(0.9213)\n",
      "epoch: 138loss: tensor(0.9212)\n",
      "epoch: 139loss: tensor(0.9208)\n",
      "epoch: 140loss: tensor(0.9209)\n",
      "epoch: 141loss: tensor(0.9204)\n",
      "epoch: 142loss: tensor(0.9203)\n",
      "epoch: 143loss: tensor(0.9197)\n",
      "epoch: 144loss: tensor(0.9200)\n",
      "epoch: 145loss: tensor(0.9192)\n",
      "epoch: 146loss: tensor(0.9194)\n",
      "epoch: 147loss: tensor(0.9189)\n",
      "epoch: 148loss: tensor(0.9190)\n",
      "epoch: 149loss: tensor(0.9185)\n",
      "epoch: 150loss: tensor(0.9183)\n",
      "epoch: 151loss: tensor(0.9178)\n",
      "epoch: 152loss: tensor(0.9181)\n",
      "epoch: 153loss: tensor(0.9176)\n",
      "epoch: 154loss: tensor(0.9178)\n",
      "epoch: 155loss: tensor(0.9174)\n",
      "epoch: 156loss: tensor(0.9175)\n",
      "epoch: 157loss: tensor(0.9169)\n",
      "epoch: 158loss: tensor(0.9171)\n",
      "epoch: 159loss: tensor(0.9164)\n",
      "epoch: 160loss: tensor(0.9166)\n",
      "epoch: 161loss: tensor(0.9159)\n",
      "epoch: 162loss: tensor(0.9162)\n",
      "epoch: 163loss: tensor(0.9158)\n",
      "epoch: 164loss: tensor(0.9159)\n",
      "epoch: 165loss: tensor(0.9153)\n",
      "epoch: 166loss: tensor(0.9155)\n",
      "epoch: 167loss: tensor(0.9151)\n",
      "epoch: 168loss: tensor(0.9150)\n",
      "epoch: 169loss: tensor(0.9143)\n",
      "epoch: 170loss: tensor(0.9147)\n",
      "epoch: 171loss: tensor(0.9145)\n",
      "epoch: 172loss: tensor(0.9148)\n",
      "epoch: 173loss: tensor(0.9141)\n",
      "epoch: 174loss: tensor(0.9141)\n",
      "epoch: 175loss: tensor(0.9137)\n",
      "epoch: 176loss: tensor(0.9136)\n",
      "epoch: 177loss: tensor(0.9133)\n",
      "epoch: 178loss: tensor(0.9133)\n",
      "epoch: 179loss: tensor(0.9130)\n",
      "epoch: 180loss: tensor(0.9130)\n",
      "epoch: 181loss: tensor(0.9129)\n",
      "epoch: 182loss: tensor(0.9130)\n",
      "epoch: 183loss: tensor(0.9127)\n",
      "epoch: 184loss: tensor(0.9127)\n",
      "epoch: 185loss: tensor(0.9125)\n",
      "epoch: 186loss: tensor(0.9121)\n",
      "epoch: 187loss: tensor(0.9122)\n",
      "epoch: 188loss: tensor(0.9119)\n",
      "epoch: 189loss: tensor(0.9115)\n",
      "epoch: 190loss: tensor(0.9115)\n",
      "epoch: 191loss: tensor(0.9116)\n",
      "epoch: 192loss: tensor(0.9114)\n",
      "epoch: 193loss: tensor(0.9115)\n",
      "epoch: 194loss: tensor(0.9111)\n",
      "epoch: 195loss: tensor(0.9111)\n",
      "epoch: 196loss: tensor(0.9110)\n",
      "epoch: 197loss: tensor(0.9108)\n",
      "epoch: 198loss: tensor(0.9107)\n",
      "epoch: 199loss: tensor(0.9106)\n",
      "epoch: 200loss: tensor(0.9104)\n"
     ]
    }
   ],
   "source": [
    "nb_epoch = 200\n",
    "for epoch in range(1, nb_epoch + 1):\n",
    "  train_loss = 0\n",
    "  s = 0.\n",
    "  for id_user in range(nb_users):\n",
    "    input = Variable(training_set[id_user]).unsqueeze(0)\n",
    "    target = input.clone()\n",
    "    if torch.sum(target.data > 0) > 0:\n",
    "      output = sae(input)\n",
    "      target.require_grad = False\n",
    "      output[target == 0] = 0\n",
    "      loss = criterion(output, target)\n",
    "      mean_corrector = nb_movies/float(torch.sum(target.data > 0) + 1e-10)\n",
    "      loss.backward()\n",
    "      train_loss += np.sqrt(loss.data*mean_corrector)\n",
    "      s += 1.\n",
    "      optimizer.step()\n",
    "  print('epoch: '+str(epoch)+'loss: '+ str(train_loss/s))"
   ]
  },
  {
   "cell_type": "markdown",
   "metadata": {
    "colab_type": "text",
    "id": "Bak5uc8gd-gX"
   },
   "source": [
    "## Testing the SAE\n"
   ]
  },
  {
   "cell_type": "code",
   "execution_count": 9,
   "metadata": {
    "colab": {
     "base_uri": "https://localhost:8080/",
     "height": 34
    },
    "colab_type": "code",
    "id": "5ztvzYRtiGCz",
    "outputId": "d0e8ea8b-9ac4-40e5-a19a-7fcfc6934d61"
   },
   "outputs": [
    {
     "name": "stdout",
     "output_type": "stream",
     "text": [
      "test loss: tensor(0.9477)\n"
     ]
    }
   ],
   "source": [
    "test_loss = 0\n",
    "s = 0.\n",
    "for id_user in range(nb_users):\n",
    "  input = Variable(training_set[id_user]).unsqueeze(0)\n",
    "  target = Variable(test_set[id_user]).unsqueeze(0)\n",
    "  if torch.sum(target.data > 0) > 0:\n",
    "    output = sae(input)\n",
    "    target.require_grad = False\n",
    "    output[target == 0] = 0\n",
    "    loss = criterion(output, target)\n",
    "    mean_corrector = nb_movies/float(torch.sum(target.data > 0) + 1e-10)\n",
    "    test_loss += np.sqrt(loss.data*mean_corrector)\n",
    "    s += 1.\n",
    "print('test loss: '+str(test_loss/s))"
   ]
  },
  {
   "cell_type": "markdown",
   "metadata": {},
   "source": [
    "----\n",
    "----"
   ]
  }
 ],
 "metadata": {
  "accelerator": "GPU",
  "colab": {
   "collapsed_sections": [],
   "name": "AutoEncoders.ipynb",
   "provenance": [],
   "toc_visible": true
  },
  "kernelspec": {
   "display_name": "Python 3 (ipykernel)",
   "language": "python",
   "name": "python3"
  },
  "language_info": {
   "codemirror_mode": {
    "name": "ipython",
    "version": 3
   },
   "file_extension": ".py",
   "mimetype": "text/x-python",
   "name": "python",
   "nbconvert_exporter": "python",
   "pygments_lexer": "ipython3",
   "version": "3.10.9"
  }
 },
 "nbformat": 4,
 "nbformat_minor": 4
}
